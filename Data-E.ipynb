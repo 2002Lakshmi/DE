{
 "cells": [
  {
   "cell_type": "code",
   "execution_count": 5,
   "id": "09f0bc79-061b-4a4c-b565-7735cdb8dbfd",
   "metadata": {},
   "outputs": [],
   "source": [
    "import pandas as pd\n",
    "from sqlalchemy import create_engine\n",
    "import psycopg2\n",
    "\n",
    "# Database connection parameters\n",
    "user = 'root'\n",
    "password = 'root'\n",
    "host = 'localhost'\n",
    "port = '1234'\n",
    "database = 'ny_taxi'\n",
    "\n",
    "# Create connection string\n",
    "connection_string = f'postgresql://{user}:{password}@{host}:{port}/{database}'\n",
    "\n",
    "# Create engine\n",
    "engine = create_engine(connection_string)\n",
    "\n"
   ]
  },
  {
   "cell_type": "code",
   "execution_count": 6,
   "id": "95d57e5d-0bb8-49f7-a5a2-bac4d5d94975",
   "metadata": {},
   "outputs": [
    {
     "name": "stdout",
     "output_type": "stream",
     "text": [
      "Loading taxi zone lookup data...\n",
      "Loaded 265 zone records\n"
     ]
    }
   ],
   "source": [
    "# Load taxi zone lookup data\n",
    "print(\"Loading taxi zone lookup data...\")\n",
    "zones_df = pd.read_csv('trip.csv')\n",
    "zones_df.to_sql('taxi_zones', engine, if_exists='replace', index=False)\n",
    "print(f\"Loaded {len(zones_df)} zone records\")"
   ]
  },
  {
   "cell_type": "code",
   "execution_count": 8,
   "id": "db7e01eb-8494-4b0b-b8c4-16c82e90bd42",
   "metadata": {},
   "outputs": [
    {
     "name": "stdout",
     "output_type": "stream",
     "text": [
      "Loading green taxi data...\n",
      "Processed chunk 1 (100000 records)\n",
      "Processed chunk 2 (100000 records)\n",
      "Processed chunk 3 (100000 records)\n"
     ]
    },
    {
     "name": "stderr",
     "output_type": "stream",
     "text": [
      "C:\\Users\\HP\\AppData\\Local\\Temp\\ipykernel_9044\\740327491.py:6: DtypeWarning: Columns (3) have mixed types. Specify dtype option on import or set low_memory=False.\n",
      "  for chunk in pd.read_csv('green_trip.csv', chunksize=chunk_size):\n"
     ]
    },
    {
     "name": "stdout",
     "output_type": "stream",
     "text": [
      "Processed chunk 4 (100000 records)\n",
      "Processed chunk 5 (49063 records)\n",
      "Data loading completed!\n"
     ]
    }
   ],
   "source": [
    "# Load green taxi data in chunks (file is large)\n",
    "print(\"Loading green taxi data...\")\n",
    "chunk_size = 100000\n",
    "chunks_processed = 0\n",
    "\n",
    "for chunk in pd.read_csv('green_trip.csv', chunksize=chunk_size):\n",
    "    # Convert datetime columns\n",
    "    chunk['lpep_pickup_datetime'] = pd.to_datetime(chunk['lpep_pickup_datetime'])\n",
    "    chunk['lpep_dropoff_datetime'] = pd.to_datetime(chunk['lpep_dropoff_datetime'])\n",
    "    \n",
    "    # Load chunk to database\n",
    "    chunk.to_sql('green_taxi_trips', engine, if_exists='append', index=False)\n",
    "    chunks_processed += 1\n",
    "    print(f\"Processed chunk {chunks_processed} ({len(chunk)} records)\")\n",
    "\n",
    "print(\"Data loading completed!\")\n"
   ]
  },
  {
   "cell_type": "code",
   "execution_count": 11,
   "id": "366c8a99-3e54-4afb-b29d-3e77630f18fc",
   "metadata": {},
   "outputs": [
    {
     "name": "stdout",
     "output_type": "stream",
     "text": [
      "Total taxi trips loaded: 449063\n",
      "Total zones loaded: 265\n"
     ]
    }
   ],
   "source": [
    "from sqlalchemy import text\n",
    "\n",
    "# Verify data loaded correctly\n",
    "with engine.connect() as conn:\n",
    "    result = conn.execute(text(\"SELECT COUNT(*) FROM green_taxi_trips\"))\n",
    "    taxi_count = result.scalar()\n",
    "    print(f\"Total taxi trips loaded: {taxi_count}\")\n",
    "    \n",
    "    result = conn.execute(text(\"SELECT COUNT(*) FROM taxi_zones\"))\n",
    "    zone_count = result.scalar()\n",
    "    print(f\"Total zones loaded: {zone_count}\")\n",
    "\n"
   ]
  },
  {
   "cell_type": "code",
   "execution_count": 13,
   "id": "dc3c9248-dd01-4d2b-b408-b2d491491f81",
   "metadata": {},
   "outputs": [
    {
     "name": "stdout",
     "output_type": "stream",
     "text": [
      " Question 3: Count records\n",
      "How many taxi trips were totally made on September 18th 2019?\n",
      "Answer: 15612\n"
     ]
    }
   ],
   "source": [
    "print(\" Question 3: Count records\")\n",
    "print(\"How many taxi trips were totally made on September 18th 2019?\")\n",
    "\n",
    "query3 = \"\"\"\n",
    "SELECT COUNT(*) as trip_count\n",
    "FROM green_taxi_trips\n",
    "WHERE DATE(lpep_pickup_datetime) = '2019-09-18'\n",
    "  AND DATE(lpep_dropoff_datetime) = '2019-09-18'\n",
    "\"\"\"\n",
    "\n",
    "result3 = pd.read_sql(query3, engine)\n",
    "print(f\"Answer: {result3['trip_count'].iloc[0]}\")\n"
   ]
  },
  {
   "cell_type": "code",
   "execution_count": 14,
   "id": "bef924fc-853a-49a7-ad03-fb6088bb4c9d",
   "metadata": {},
   "outputs": [
    {
     "name": "stdout",
     "output_type": "stream",
     "text": [
      "\n",
      " Question 4: Longest trip for each day\n",
      "Which was the pick up day with the longest trip distance?\n",
      "Answer: 2019-09-26\n"
     ]
    }
   ],
   "source": [
    "print(\"\\n Question 4: Longest trip for each day\")\n",
    "print(\"Which was the pick up day with the longest trip distance?\")\n",
    "\n",
    "query4 = \"\"\"\n",
    "SELECT DATE(lpep_pickup_datetime) as pickup_date,\n",
    "       MAX(trip_distance) as max_distance\n",
    "FROM green_taxi_trips\n",
    "GROUP BY DATE(lpep_pickup_datetime)\n",
    "ORDER BY max_distance DESC\n",
    "LIMIT 1\n",
    "\"\"\"\n",
    "\n",
    "result4 = pd.read_sql(query4, engine)\n",
    "print(f\"Answer: {result4['pickup_date'].iloc[0]}\")\n"
   ]
  },
  {
   "cell_type": "code",
   "execution_count": 27,
   "id": "7d33a763-5a2c-4152-ad68-20265a859f4a",
   "metadata": {},
   "outputs": [
    {
     "name": "stdout",
     "output_type": "stream",
     "text": [
      "\n",
      "  Question 5: Three biggest pick up Boroughs\n",
      "Which were the 3 pick up Boroughs that had a sum of total_amount superior to 50000?\n",
      "Boroughs with total_amount > 50000:\n",
      "  Brooklyn: $96,333.24\n",
      "  Manhattan: $92,271.30\n",
      "  Queens: $78,671.71\n"
     ]
    }
   ],
   "source": [
    "print(\"\\n  Question 5: Three biggest pick up Boroughs\")\n",
    "print(\"Which were the 3 pick up Boroughs that had a sum of total_amount superior to 50000?\")\n",
    "\n",
    "query5 = \"\"\"\n",
    "SELECT tz.\"Borough\",\n",
    "       SUM(gt.\"total_amount\") as total_amount_sum\n",
    "FROM green_taxi_trips gt\n",
    "JOIN taxi_zones tz ON gt.\"PULocationID\" = tz.\"LocationID\"\n",
    "WHERE DATE(gt.\"lpep_pickup_datetime\") = '2019-09-18'\n",
    "  AND tz.\"Borough\" != 'Unknown'\n",
    "GROUP BY tz.\"Borough\"\n",
    "HAVING SUM(gt.\"total_amount\") > 50000\n",
    "ORDER BY total_amount_sum DESC\n",
    "\"\"\"\n",
    "\n",
    "\n",
    "result5 = pd.read_sql(query5, engine)\n",
    "print(\"Boroughs with total_amount > 50000:\")\n",
    "for idx, row in result5.iterrows():\n",
    "    print(f\"  {row['Borough']}: ${row['total_amount_sum']:,.2f}\")\n",
    "\n"
   ]
  },
  {
   "cell_type": "code",
   "execution_count": 19,
   "id": "19852fb0-7865-4254-a2e0-fd724111f7e7",
   "metadata": {},
   "outputs": [
    {
     "name": "stdout",
     "output_type": "stream",
     "text": [
      "RMKeyView(['VendorID', 'lpep_pickup_datetime', 'lpep_dropoff_datetime', 'store_and_fwd_flag', 'RatecodeID', 'PULocationID', 'DOLocationID', 'passenger_count', 'trip_distance', 'fare_amount', 'extra', 'mta_tax', 'tip_amount', 'tolls_amount', 'ehail_fee', 'improvement_surcharge', 'total_amount', 'payment_type', 'trip_type', 'congestion_surcharge'])\n"
     ]
    }
   ],
   "source": [
    "from sqlalchemy import create_engine, text\n",
    "\n",
    "with engine.connect() as conn:\n",
    "    result = conn.execute(text(\"SELECT * FROM green_taxi_trips LIMIT 1\"))\n",
    "    print(result.keys())\n"
   ]
  },
  {
   "cell_type": "code",
   "execution_count": 22,
   "id": "4cbe1556-696a-4442-b8ae-e9e989052d7f",
   "metadata": {},
   "outputs": [
    {
     "name": "stdout",
     "output_type": "stream",
     "text": [
      "RMKeyView(['LocationID', 'Borough', 'Zone', 'service_zone'])\n"
     ]
    }
   ],
   "source": [
    "from sqlalchemy import create_engine, text\n",
    "\n",
    "with engine.connect() as conn:\n",
    "    result = conn.execute(text(\"SELECT * FROM taxi_zones LIMIT 1\"))\n",
    "    print(result.keys())"
   ]
  },
  {
   "cell_type": "code",
   "execution_count": 30,
   "id": "c3127b31-bac8-45eb-800b-ca66529867f2",
   "metadata": {},
   "outputs": [
    {
     "name": "stdout",
     "output_type": "stream",
     "text": [
      "\n",
      " Question 6: Largest tip\n",
      "For passengers picked up in September 2019 in Astoria, which drop off zone had the largest tip?\n",
      "Answer: JFK Airport\n",
      "Tip amount: $62.31\n"
     ]
    }
   ],
   "source": [
    "print(\"\\n Question 6: Largest tip\")\n",
    "print(\"For passengers picked up in September 2019 in Astoria, which drop off zone had the largest tip?\")\n",
    "\n",
    "query6 = \"\"\"\n",
    "SELECT tz_dropoff.\"Zone\" as dropoff_zone,\n",
    "       MAX(gt.\"tip_amount\") as max_tip\n",
    "FROM green_taxi_trips gt\n",
    "JOIN taxi_zones tz_pickup ON gt.\"PULocationID\" = tz_pickup.\"LocationID\"\n",
    "JOIN taxi_zones tz_dropoff ON gt.\"DOLocationID\" = tz_dropoff.\"LocationID\"\n",
    "WHERE tz_pickup.\"Zone\" = 'Astoria'\n",
    "  AND DATE(gt.\"lpep_pickup_datetime\") BETWEEN '2019-09-01' AND '2019-09-30'\n",
    "GROUP BY tz_dropoff.\"Zone\"\n",
    "ORDER BY max_tip DESC\n",
    "LIMIT 1\n",
    "\"\"\"\n",
    "\n",
    "result6 = pd.read_sql(query6, engine)\n",
    "print(f\"Answer: {result6['dropoff_zone'].iloc[0]}\")\n",
    "print(f\"Tip amount: ${result6['max_tip'].iloc[0]:.2f}\")\n",
    "\n"
   ]
  },
  {
   "cell_type": "code",
   "execution_count": 31,
   "id": "5ff06fa7-5c09-4ead-a2a7-b95198506a19",
   "metadata": {},
   "outputs": [
    {
     "name": "stdout",
     "output_type": "stream",
     "text": [
      "\n",
      " Summary of Answers\n",
      "Question 3: 15612\n",
      "Question 4: 2019-09-26\n",
      "Question 5: \"Brooklyn\", \"Manhattan\", \"Queens\"\n",
      "Question 6: JFK Airport\n"
     ]
    }
   ],
   "source": [
    "print(\"\\n Summary of Answers\")\n",
    "print(f\"Question 3: {result3['trip_count'].iloc[0]}\")\n",
    "print(f\"Question 4: {result4['pickup_date'].iloc[0]}\")\n",
    "print(f\"Question 5: {', '.join(['\\\"' + str(row['Borough']) + '\\\"' for _, row in result5.iterrows()])}\")\n",
    "print(f\"Question 6: {result6['dropoff_zone'].iloc[0]}\")\n"
   ]
  }
 ],
 "metadata": {
  "kernelspec": {
   "display_name": "Python 3 (ipykernel)",
   "language": "python",
   "name": "python3"
  },
  "language_info": {
   "codemirror_mode": {
    "name": "ipython",
    "version": 3
   },
   "file_extension": ".py",
   "mimetype": "text/x-python",
   "name": "python",
   "nbconvert_exporter": "python",
   "pygments_lexer": "ipython3",
   "version": "3.13.5"
  }
 },
 "nbformat": 4,
 "nbformat_minor": 5
}
